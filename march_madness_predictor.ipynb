{
  "nbformat": 4,
  "nbformat_minor": 0,
  "metadata": {
    "colab": {
      "provenance": [],
      "mount_file_id": "1aGbdYO1UHv_u_UTjsLNMe5MmFeUqTqFe",
      "authorship_tag": "ABX9TyPbKKW2vbvsrgyz9BbDHyl7",
      "include_colab_link": true
    },
    "kernelspec": {
      "name": "python3",
      "display_name": "Python 3"
    },
    "language_info": {
      "name": "python"
    }
  },
  "cells": [
    {
      "cell_type": "markdown",
      "metadata": {
        "id": "view-in-github",
        "colab_type": "text"
      },
      "source": [
        "<a href=\"https://colab.research.google.com/github/emilyginn/march_madness_bracket/blob/main/march_madness_predictor.ipynb\" target=\"_parent\"><img src=\"https://colab.research.google.com/assets/colab-badge.svg\" alt=\"Open In Colab\"/></a>"
      ]
    },
    {
      "cell_type": "markdown",
      "source": [
        "## Set Up"
      ],
      "metadata": {
        "id": "eEapTQjrwztL"
      }
    },
    {
      "cell_type": "code",
      "source": [
        "import pandas as pd\n",
        "import tensorflow as tf\n",
        "from tensorflow import keras\n",
        "from tensorflow.keras import layers\n",
        "from keras.api._v2.keras import regularizers\n",
        "\n",
        "pd.set_option('display.max_columns', None)"
      ],
      "metadata": {
        "id": "E29KEmxBrRQa"
      },
      "execution_count": null,
      "outputs": []
    },
    {
      "cell_type": "markdown",
      "source": [
        "## Collect Data"
      ],
      "metadata": {
        "id": "qioXs8tOw3N4"
      }
    },
    {
      "cell_type": "code",
      "source": [
        "years = [2023, 2022, 2021, 2019, 2018, 2017, 2016, 2015, 2014]\n",
        "\n",
        "dataframes = {}\n",
        "\n",
        "for year in years:\n",
        "  data = pd.read_csv('/content/drive/MyDrive/march_madness_predictor_dir/'+str(year)).drop(columns=['Unnamed: 8', 'Unnamed: 11', 'Unnamed: 14', 'Unnamed: 17', 'Unnamed: 20'])\n",
        "  data.insert(2, 'year', year)\n",
        "  dataframes[year] = data\n",
        "\n",
        "# Concatenate the dataframes into one\n",
        "data = pd.concat(dataframes.values(), ignore_index=True)"
      ],
      "metadata": {
        "id": "2ZPQz0TscAVa"
      },
      "execution_count": null,
      "outputs": []
    },
    {
      "cell_type": "markdown",
      "source": [
        "## Preprocessing"
      ],
      "metadata": {
        "id": "Mn6LVPCExAma"
      }
    },
    {
      "cell_type": "code",
      "source": [
        "data = data.rename(columns={'W.1': 'conference_wins', 'L.1': 'conference_losses', 'W.2': 'home_wins', 'L.2': 'home_losses', 'W.3': 'away_wins', 'L.3': 'away_losses'})"
      ],
      "metadata": {
        "id": "Ym4KdYwMzyWf"
      },
      "execution_count": null,
      "outputs": []
    },
    {
      "cell_type": "code",
      "source": [
        "data['School'] = data['School'].astype(str).str.strip()"
      ],
      "metadata": {
        "id": "XObmwQW1s6uv"
      },
      "execution_count": null,
      "outputs": []
    },
    {
      "cell_type": "code",
      "source": [
        "## Account for 2023 teams, as they aren't specified in the data sets yet\n",
        "\n",
        "teams_2023 = [\"Alabama\",\"Houston\",\"Kansas\",\"Purdue\",\"UCLA\",\"Texas\",\"Arizona\",\"Marquette\",\"Baylor\",\"Gonzaga\",\"Kansas State\",\"Xavier\",\"Connecticut\",\"Tennessee\",\"Indiana\",\"Virginia\",\"San Diego State\",\n",
        "              \"Duke\",\"Saint Mary's\",\"Miami\",\"lowa State\",\"Creighton\",\"Kentucky\",\"TCU\",\"Texas A&M\",\"Michigan State\",\"Missouri\",\"Northwestern\",\"Memphis\",\"Arkansas\",\"Maryland\",\"lowa\",\"Florida Atlantic\",\n",
        "              \"West Virginia\",\"Auburn\",\"Illinois\",\"Boise State\",\"Penn State\",\"Southern California\",\"Utah State\",\"NC State\",\"Providence\",\"Mississippi State\",\"Pittsburgh\",\"Arizona State\",\"Nevada\",\n",
        "              \"College of Charleston\",\"Oral Roberts\",\"Drake\",\"Virginia Commonwealth\",\"Kent State\",\"lona\",\"Furman\",\"Louisiana\",\"Kennesaw State\",\"UC Santa Barbara\",\"Grand Canyon\",\"Montana State\",\"Vermont\",\n",
        "              \"Colgate\",\"Princeton\",\"UNC Asheville\",\"Northern Kentucky\",\"Howard\",\"A&M-Corpus Christi\",\"Texas Southern\",\"Southeast Missouri State\",\"Fairleigh Dickinson\"]\n",
        "\n",
        "data.loc[:, 'NCAA'] = 0\n",
        "\n",
        "data['School'] = [s.translate({0xa0: ' '}) for s in data['School'].to_list()]\n",
        "\n",
        "for i in data[data['year'] == 2023].index:\n",
        "  if data.loc[i, 'School'] in teams_2023:\n",
        "    data.loc[i, 'NCAA'] = 1\n",
        "\n",
        "for i in data[data['year'] != 2023].index:\n",
        "  if \" NCAA\" in data.loc[i, 'School']:\n",
        "    data.loc[i, 'NCAA'] = 1"
      ],
      "metadata": {
        "id": "9kgkcUrime4h"
      },
      "execution_count": null,
      "outputs": []
    },
    {
      "cell_type": "code",
      "source": [
        "tournament_teams = data[data[\"NCAA\"] == 1]"
      ],
      "metadata": {
        "id": "3F8h_PM6y-k4"
      },
      "execution_count": null,
      "outputs": []
    },
    {
      "cell_type": "code",
      "source": [
        "tournament_teams['School'] = tournament_teams['School'].str.replace(\"'\", \"\")"
      ],
      "metadata": {
        "colab": {
          "base_uri": "https://localhost:8080/"
        },
        "id": "SEEDAE1qgbv9",
        "outputId": "0d9c1ec8-58e5-4790-f642-91cd8f095993"
      },
      "execution_count": null,
      "outputs": [
        {
          "output_type": "stream",
          "name": "stderr",
          "text": [
            "<ipython-input-507-e735ef53fcaa>:1: SettingWithCopyWarning: \n",
            "A value is trying to be set on a copy of a slice from a DataFrame.\n",
            "Try using .loc[row_indexer,col_indexer] = value instead\n",
            "\n",
            "See the caveats in the documentation: https://pandas.pydata.org/pandas-docs/stable/user_guide/indexing.html#returning-a-view-versus-a-copy\n",
            "  tournament_teams['School'] = tournament_teams['School'].str.replace(\"'\", \"\")\n"
          ]
        }
      ]
    },
    {
      "cell_type": "markdown",
      "source": [
        "### Feature Normalization"
      ],
      "metadata": {
        "id": "R9oeBA1Ry1n8"
      }
    },
    {
      "cell_type": "code",
      "source": [
        "for year in tournament_teams['year'].unique():\n",
        "    cols_to_normalize = tournament_teams.loc[tournament_teams['year'] == year].columns[17:30]\n",
        "    normalized_cols = (tournament_teams.loc[tournament_teams['year'] == year, cols_to_normalize] - tournament_teams.loc[tournament_teams['year'] == year, cols_to_normalize].min()) / (tournament_teams.loc[tournament_teams['year'] == year, cols_to_normalize].max() - tournament_teams.loc[tournament_teams['year'] == year, cols_to_normalize].min())\n",
        "    tournament_teams.loc[tournament_teams['year'] == year, cols_to_normalize] = normalized_cols\n"
      ],
      "metadata": {
        "id": "VdI5HwwEy5GF"
      },
      "execution_count": null,
      "outputs": []
    },
    {
      "cell_type": "code",
      "source": [
        "for year in tournament_teams['year'].unique():\n",
        "    cols_to_normalize = tournament_teams.loc[tournament_teams['year'] == year].columns[6:9]\n",
        "    normalized_cols = (tournament_teams.loc[tournament_teams['year'] == year, cols_to_normalize] - tournament_teams.loc[tournament_teams['year'] == year, cols_to_normalize].min()) / (tournament_teams.loc[tournament_teams['year'] == year, cols_to_normalize].max() - tournament_teams.loc[tournament_teams['year'] == year, cols_to_normalize].min())\n",
        "    tournament_teams.loc[tournament_teams['year'] == year, cols_to_normalize] = normalized_cols"
      ],
      "metadata": {
        "id": "b1GmT9Q73vSY"
      },
      "execution_count": null,
      "outputs": []
    },
    {
      "cell_type": "markdown",
      "source": [
        "### Lookup Tables"
      ],
      "metadata": {
        "id": "WuM4JgeJCywR"
      }
    },
    {
      "cell_type": "code",
      "source": [
        "years = [2022, 2021, 2019, 2018, 2017, 2016, 2015, 2014]\n",
        "\n",
        "dataframes = {}\n",
        "\n",
        "for year in years:\n",
        "  data = pd.read_csv('/content/drive/MyDrive/march_madness_predictor_dir/'+str(year)+'_WAS.csv', header=None)\n",
        "  data.columns = [\"School\", \"WAS\"]\n",
        "  data['School'] = data['School'].str.replace(\"'\", \"\")\n",
        "  dataframes[year] = data\n"
      ],
      "metadata": {
        "id": "A7RtjXNQC7-j"
      },
      "execution_count": null,
      "outputs": []
    },
    {
      "cell_type": "code",
      "source": [
        "groups = {}\n",
        "\n",
        "for year, df in dataframes.items():\n",
        "    groups[year] = pd.merge(tournament_teams[tournament_teams[\"year\"]==year], df, how=\"outer\", on=\"School\")\n",
        "groups[2022].loc[:68,:]"
      ],
      "metadata": {
        "id": "cUOhxzcsSwSC"
      },
      "execution_count": null,
      "outputs": []
    },
    {
      "cell_type": "code",
      "source": [
        "groups[2022] = groups[2022].loc[:67,:]"
      ],
      "metadata": {
        "id": "2lcxqG7Oonul"
      },
      "execution_count": null,
      "outputs": []
    },
    {
      "cell_type": "code",
      "source": [
        "model_data = pd.concat(groups.values(), ignore_index=True).fillna(0)"
      ],
      "metadata": {
        "id": "xzhl0iiihY0U"
      },
      "execution_count": null,
      "outputs": []
    },
    {
      "cell_type": "code",
      "source": [
        "model_data.drop(columns=['Rk','NCAA'], inplace=True)"
      ],
      "metadata": {
        "id": "ay8UGsEpo8zi"
      },
      "execution_count": null,
      "outputs": []
    },
    {
      "cell_type": "code",
      "source": [
        "model_data.shape"
      ],
      "metadata": {
        "colab": {
          "base_uri": "https://localhost:8080/"
        },
        "id": "bSF8oER5p3VH",
        "outputId": "0f8997c1-d02f-4607-9cbf-0878c9431cb3"
      },
      "execution_count": null,
      "outputs": [
        {
          "output_type": "execute_result",
          "data": {
            "text/plain": [
              "(544, 30)"
            ]
          },
          "metadata": {},
          "execution_count": 528
        }
      ]
    },
    {
      "cell_type": "markdown",
      "source": [
        "## Neural Network"
      ],
      "metadata": {
        "id": "oHrls3CppklD"
      }
    },
    {
      "cell_type": "code",
      "source": [
        "model = keras.Sequential()"
      ],
      "metadata": {
        "id": "OfkDRLM_pq_i"
      },
      "execution_count": null,
      "outputs": []
    },
    {
      "cell_type": "code",
      "source": [
        "model.add(layers.Dense(256,kernel_regularizer=regularizers.l2(0.00001), activation='relu', input_shape=(30,)))"
      ],
      "metadata": {
        "id": "w67HPbA3qBtc"
      },
      "execution_count": null,
      "outputs": []
    },
    {
      "cell_type": "code",
      "source": [
        "model.add(layers.Dropout(0.1))"
      ],
      "metadata": {
        "id": "ncffX6rHq9Lw"
      },
      "execution_count": null,
      "outputs": []
    },
    {
      "cell_type": "code",
      "source": [
        "model.add(layers.Dense(128,kernel_regularizer=regularizers.l2(0.00001), activation='relu'))"
      ],
      "metadata": {
        "id": "6cMzhkJbrvDN"
      },
      "execution_count": null,
      "outputs": []
    },
    {
      "cell_type": "code",
      "source": [
        "model.add(layers.Dropout(0.1))"
      ],
      "metadata": {
        "id": "lJ9amIndr4O_"
      },
      "execution_count": null,
      "outputs": []
    },
    {
      "cell_type": "code",
      "source": [
        "model.add(layers.Dense(64,kernel_regularizer=regularizers.l2(0.00001), activation='relu'))"
      ],
      "metadata": {
        "id": "Oqe0W5nDr7gB"
      },
      "execution_count": null,
      "outputs": []
    },
    {
      "cell_type": "code",
      "source": [
        "model.add(layers.Dropout(0.1))"
      ],
      "metadata": {
        "id": "tp6py7i0sDWt"
      },
      "execution_count": null,
      "outputs": []
    },
    {
      "cell_type": "code",
      "source": [
        "model.add(layers.Dense(32,kernel_regularizer=regularizers.l2(0.00001), activation='relu'))"
      ],
      "metadata": {
        "id": "6Scn60CQsH0Z"
      },
      "execution_count": null,
      "outputs": []
    },
    {
      "cell_type": "code",
      "source": [
        "model.add(layers.Dropout(0.1))"
      ],
      "metadata": {
        "id": "7xkxmbFPsQ1f"
      },
      "execution_count": null,
      "outputs": []
    },
    {
      "cell_type": "code",
      "source": [
        "model.add(layers.Dense(11, activation='softmax'))"
      ],
      "metadata": {
        "id": "wrEf7xDWsUg5"
      },
      "execution_count": null,
      "outputs": []
    },
    {
      "cell_type": "code",
      "source": [
        "model.compile(optimizer='rmsprop', loss='categorical_crossentropy', metrics=['accuracy'])"
      ],
      "metadata": {
        "id": "J6rPTFMbsm3a"
      },
      "execution_count": null,
      "outputs": []
    },
    {
      "cell_type": "markdown",
      "source": [
        "## Sources\n",
        "\n",
        "Data collected from: https://www.sports-reference.com/cbb/"
      ],
      "metadata": {
        "id": "dDbISGT_x0cQ"
      }
    }
  ]
}